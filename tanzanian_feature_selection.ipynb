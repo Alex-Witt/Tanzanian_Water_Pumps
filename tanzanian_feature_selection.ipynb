{
 "cells": [
  {
   "cell_type": "markdown",
   "metadata": {},
   "source": [
    "# HyperParameter Optimization and Feature Selection Post Modeling\n",
    "\n",
    "This notebok uses the Tanzanian Waterpump Maintenance Dataset from Kaggle to test hyperparamter optimization using a variety of search methods. Then, the notebook will cover post modeling feature selection. It does not go into detail with pre-modeling feature selection. For that, reference [this notebook](tanzanian_water_pump_submission.ipynb). \n",
    "\n",
    "### Imports and Data Wrangling"
   ]
  },
  {
   "cell_type": "code",
   "execution_count": 1,
   "metadata": {},
   "outputs": [],
   "source": [
    "import category_encoders as ce\n",
    "import matplotlib.pyplot as plt\n",
    "import numpy as np\n",
    "import pandas as pd\n",
    "import seaborn as sns\n",
    "from sklearn.cluster import KMeans\n",
    "from sklearn.metrics import accuracy_score\n",
    "from wrangle import note, low_occurance\n",
    "from sklearn.model_selection import train_test_split\n",
    "\n",
    "pd.options.mode.chained_assignment = None  # default='warn'"
   ]
  },
  {
   "cell_type": "code",
   "execution_count": 51,
   "metadata": {},
   "outputs": [
    {
     "data": {
      "text/html": [
       "<div>\n",
       "<style scoped>\n",
       "    .dataframe tbody tr th:only-of-type {\n",
       "        vertical-align: middle;\n",
       "    }\n",
       "\n",
       "    .dataframe tbody tr th {\n",
       "        vertical-align: top;\n",
       "    }\n",
       "\n",
       "    .dataframe thead th {\n",
       "        text-align: right;\n",
       "    }\n",
       "</style>\n",
       "<table border=\"1\" class=\"dataframe\">\n",
       "  <thead>\n",
       "    <tr style=\"text-align: right;\">\n",
       "      <th></th>\n",
       "      <th>id</th>\n",
       "      <th>amount_tsh</th>\n",
       "      <th>date_recorded</th>\n",
       "      <th>funder</th>\n",
       "      <th>gps_height</th>\n",
       "      <th>installer</th>\n",
       "      <th>longitude</th>\n",
       "      <th>latitude</th>\n",
       "      <th>wpt_name</th>\n",
       "      <th>num_private</th>\n",
       "      <th>...</th>\n",
       "      <th>payment_type</th>\n",
       "      <th>water_quality</th>\n",
       "      <th>quality_group</th>\n",
       "      <th>quantity</th>\n",
       "      <th>quantity_group</th>\n",
       "      <th>source</th>\n",
       "      <th>source_type</th>\n",
       "      <th>source_class</th>\n",
       "      <th>waterpoint_type</th>\n",
       "      <th>waterpoint_type_group</th>\n",
       "    </tr>\n",
       "  </thead>\n",
       "  <tbody>\n",
       "    <tr>\n",
       "      <th>0</th>\n",
       "      <td>69572</td>\n",
       "      <td>6000.0</td>\n",
       "      <td>2011-03-14</td>\n",
       "      <td>Roman</td>\n",
       "      <td>1390</td>\n",
       "      <td>Roman</td>\n",
       "      <td>34.938093</td>\n",
       "      <td>-9.856322</td>\n",
       "      <td>none</td>\n",
       "      <td>0</td>\n",
       "      <td>...</td>\n",
       "      <td>annually</td>\n",
       "      <td>soft</td>\n",
       "      <td>good</td>\n",
       "      <td>enough</td>\n",
       "      <td>enough</td>\n",
       "      <td>spring</td>\n",
       "      <td>spring</td>\n",
       "      <td>groundwater</td>\n",
       "      <td>communal standpipe</td>\n",
       "      <td>communal standpipe</td>\n",
       "    </tr>\n",
       "    <tr>\n",
       "      <th>1</th>\n",
       "      <td>8776</td>\n",
       "      <td>0.0</td>\n",
       "      <td>2013-03-06</td>\n",
       "      <td>Grumeti</td>\n",
       "      <td>1399</td>\n",
       "      <td>GRUMETI</td>\n",
       "      <td>34.698766</td>\n",
       "      <td>-2.147466</td>\n",
       "      <td>Zahanati</td>\n",
       "      <td>0</td>\n",
       "      <td>...</td>\n",
       "      <td>never pay</td>\n",
       "      <td>soft</td>\n",
       "      <td>good</td>\n",
       "      <td>insufficient</td>\n",
       "      <td>insufficient</td>\n",
       "      <td>rainwater harvesting</td>\n",
       "      <td>rainwater harvesting</td>\n",
       "      <td>surface</td>\n",
       "      <td>communal standpipe</td>\n",
       "      <td>communal standpipe</td>\n",
       "    </tr>\n",
       "    <tr>\n",
       "      <th>2</th>\n",
       "      <td>34310</td>\n",
       "      <td>25.0</td>\n",
       "      <td>2013-02-25</td>\n",
       "      <td>Lottery Club</td>\n",
       "      <td>686</td>\n",
       "      <td>World vision</td>\n",
       "      <td>37.460664</td>\n",
       "      <td>-3.821329</td>\n",
       "      <td>Kwa Mahundi</td>\n",
       "      <td>0</td>\n",
       "      <td>...</td>\n",
       "      <td>per bucket</td>\n",
       "      <td>soft</td>\n",
       "      <td>good</td>\n",
       "      <td>enough</td>\n",
       "      <td>enough</td>\n",
       "      <td>dam</td>\n",
       "      <td>dam</td>\n",
       "      <td>surface</td>\n",
       "      <td>communal standpipe multiple</td>\n",
       "      <td>communal standpipe</td>\n",
       "    </tr>\n",
       "    <tr>\n",
       "      <th>3</th>\n",
       "      <td>67743</td>\n",
       "      <td>0.0</td>\n",
       "      <td>2013-01-28</td>\n",
       "      <td>Unicef</td>\n",
       "      <td>263</td>\n",
       "      <td>UNICEF</td>\n",
       "      <td>38.486161</td>\n",
       "      <td>-11.155298</td>\n",
       "      <td>small_fry</td>\n",
       "      <td>0</td>\n",
       "      <td>...</td>\n",
       "      <td>never pay</td>\n",
       "      <td>soft</td>\n",
       "      <td>good</td>\n",
       "      <td>dry</td>\n",
       "      <td>dry</td>\n",
       "      <td>machine dbh</td>\n",
       "      <td>borehole</td>\n",
       "      <td>groundwater</td>\n",
       "      <td>communal standpipe multiple</td>\n",
       "      <td>communal standpipe</td>\n",
       "    </tr>\n",
       "    <tr>\n",
       "      <th>4</th>\n",
       "      <td>19728</td>\n",
       "      <td>0.0</td>\n",
       "      <td>2011-07-13</td>\n",
       "      <td>small_fry</td>\n",
       "      <td>0</td>\n",
       "      <td>Artisan</td>\n",
       "      <td>31.130847</td>\n",
       "      <td>-1.825359</td>\n",
       "      <td>Shuleni</td>\n",
       "      <td>0</td>\n",
       "      <td>...</td>\n",
       "      <td>never pay</td>\n",
       "      <td>soft</td>\n",
       "      <td>good</td>\n",
       "      <td>seasonal</td>\n",
       "      <td>seasonal</td>\n",
       "      <td>rainwater harvesting</td>\n",
       "      <td>rainwater harvesting</td>\n",
       "      <td>surface</td>\n",
       "      <td>communal standpipe</td>\n",
       "      <td>communal standpipe</td>\n",
       "    </tr>\n",
       "  </tbody>\n",
       "</table>\n",
       "<p>5 rows × 40 columns</p>\n",
       "</div>"
      ],
      "text/plain": [
       "      id  amount_tsh date_recorded        funder  gps_height     installer  \\\n",
       "0  69572      6000.0    2011-03-14         Roman        1390         Roman   \n",
       "1   8776         0.0    2013-03-06       Grumeti        1399       GRUMETI   \n",
       "2  34310        25.0    2013-02-25  Lottery Club         686  World vision   \n",
       "3  67743         0.0    2013-01-28        Unicef         263        UNICEF   \n",
       "4  19728         0.0    2011-07-13     small_fry           0       Artisan   \n",
       "\n",
       "   longitude   latitude     wpt_name  num_private  ... payment_type  \\\n",
       "0  34.938093  -9.856322         none            0  ...     annually   \n",
       "1  34.698766  -2.147466     Zahanati            0  ...    never pay   \n",
       "2  37.460664  -3.821329  Kwa Mahundi            0  ...   per bucket   \n",
       "3  38.486161 -11.155298    small_fry            0  ...    never pay   \n",
       "4  31.130847  -1.825359      Shuleni            0  ...    never pay   \n",
       "\n",
       "  water_quality quality_group      quantity  quantity_group  \\\n",
       "0          soft          good        enough          enough   \n",
       "1          soft          good  insufficient    insufficient   \n",
       "2          soft          good        enough          enough   \n",
       "3          soft          good           dry             dry   \n",
       "4          soft          good      seasonal        seasonal   \n",
       "\n",
       "                 source           source_type  source_class  \\\n",
       "0                spring                spring   groundwater   \n",
       "1  rainwater harvesting  rainwater harvesting       surface   \n",
       "2                   dam                   dam       surface   \n",
       "3           machine dbh              borehole   groundwater   \n",
       "4  rainwater harvesting  rainwater harvesting       surface   \n",
       "\n",
       "               waterpoint_type waterpoint_type_group  \n",
       "0           communal standpipe    communal standpipe  \n",
       "1           communal standpipe    communal standpipe  \n",
       "2  communal standpipe multiple    communal standpipe  \n",
       "3  communal standpipe multiple    communal standpipe  \n",
       "4           communal standpipe    communal standpipe  \n",
       "\n",
       "[5 rows x 40 columns]"
      ]
     },
     "execution_count": 51,
     "metadata": {},
     "output_type": "execute_result"
    }
   ],
   "source": [
    "data         = pd.read_csv('train_features.csv')\n",
    "feature_info = pd.read_csv('train_labels.csv')\n",
    "\n",
    "feature_info = feature_info.drop(columns = 'id')\n",
    "\n",
    "data = low_occurance(note(data))\n",
    "\n",
    "data.head()"
   ]
  },
  {
   "cell_type": "code",
   "execution_count": 63,
   "metadata": {},
   "outputs": [],
   "source": [
    "def finish_dataframe (data=data, feature_info=feature_info):\n",
    "    \n",
    "    df = data[['latitude','longitude','gps_height','population','ward',\n",
    "               'construction_year','amount_tsh','quantity','funder',\n",
    "               'waterpoint_type','extraction_type',\n",
    "               'source','management']]\n",
    "\n",
    "    df['longitude'] = df['longitude'].replace(0 ,np.nan)\n",
    "    df['latitude'] = df['latitude'].replace(-2.000000e-08 ,np.nan)\n",
    "\n",
    "    df = df.dropna()\n",
    "    \n",
    "\n",
    "    n_clusters = [50, 500]\n",
    "\n",
    "    for n in n_clusters:\n",
    "        kmeans = KMeans(n_clusters=n, n_jobs=-1)\n",
    "        kmeans.fit(df[['longitude','latitude']])\n",
    "        y_kmeans = kmeans.predict(df[['longitude','latitude']])\n",
    "\n",
    "        df[str(n)+'_kmeans_clusters'] = y_kmeans\n",
    "\n",
    "    df = df.drop(columns=['latitude','longitude'])\n",
    "    \n",
    "    ordinal = ce.OrdinalEncoder(return_df=True)\n",
    "    df = ordinal.fit_transform(df)\n",
    "    \n",
    "    df = pd.concat([df, feature_info], \n",
    "                   sort = False, axis = 1)\n",
    "    \n",
    "    return df\n",
    "\n",
    "df = finish_dataframe()"
   ]
  },
  {
   "cell_type": "code",
   "execution_count": 64,
   "metadata": {},
   "outputs": [
    {
     "data": {
      "text/plain": [
       "((56430, 13), (56430,), (2970, 13), (2970,))"
      ]
     },
     "execution_count": 64,
     "metadata": {},
     "output_type": "execute_result"
    }
   ],
   "source": [
    "# Create a holdout for the very end\n",
    "X = df.drop(columns='status_group')\n",
    "y = df['status_group']\n",
    "\n",
    "X , X_val , y , y_val = train_test_split(X, y, test_size=0.05, random_state=42)\n",
    "\n",
    "X.shape, y.shape, X_val.shape, y_val.shape"
   ]
  },
  {
   "cell_type": "markdown",
   "metadata": {},
   "source": [
    "### Baseline Model\n",
    "\n",
    "This data is by no means perfect. It is a very messy data and a fantastic excercise in multiple cleaning techniques. That is not my objective here. This next section will provide a baseline model as well as an example of hyperparameter optimization techniques designed to avoid \"grad student descent\". "
   ]
  },
  {
   "cell_type": "code",
   "execution_count": 5,
   "metadata": {},
   "outputs": [],
   "source": [
    "from sklearn.linear_model import LogisticRegression\n",
    "\n",
    "model = LogisticRegression(solver='lbfgs', \n",
    "                           max_iter=10000, \n",
    "                           multi_class='auto')"
   ]
  },
  {
   "cell_type": "code",
   "execution_count": 6,
   "metadata": {},
   "outputs": [
    {
     "name": "stderr",
     "output_type": "stream",
     "text": [
      "[Parallel(n_jobs=-1)]: Using backend LokyBackend with 8 concurrent workers.\n",
      "[Parallel(n_jobs=-1)]: Done   2 out of   5 | elapsed:  1.4min remaining:  2.1min\n",
      "[Parallel(n_jobs=-1)]: Done   3 out of   5 | elapsed:  1.5min remaining:   59.3s\n",
      "[Parallel(n_jobs=-1)]: Done   5 out of   5 | elapsed:  1.7min remaining:    0.0s\n",
      "[Parallel(n_jobs=-1)]: Done   5 out of   5 | elapsed:  1.7min finished\n"
     ]
    }
   ],
   "source": [
    "from sklearn.model_selection import cross_val_score\n",
    "\n",
    "X = df.drop(columns='status_group')\n",
    "y = df['status_group']\n",
    "\n",
    "model.fit(X , y)\n",
    "\n",
    "score  = (cross_val_score(model, X, y, \n",
    "                          cv = 5, \n",
    "                          scoring = 'accuracy',\n",
    "                          n_jobs = -1,\n",
    "                          verbose = 10))"
   ]
  },
  {
   "cell_type": "code",
   "execution_count": 7,
   "metadata": {},
   "outputs": [
    {
     "name": "stdout",
     "output_type": "stream",
     "text": [
      "Cross Validation Spread:  [0.64183806 0.63479711 0.63831758 0.63806523 0.63630467]\n",
      "Cross Validation Mean:  0.6378645310321895\n",
      "Cross Validation STDV:  0.0023612156699824925\n"
     ]
    }
   ],
   "source": [
    "print('Cross Validation Spread: ', score)\n",
    "print('Cross Validation Mean: ', score.mean())\n",
    "print('Cross Validation STDV: ', np.std(score))"
   ]
  },
  {
   "cell_type": "markdown",
   "metadata": {},
   "source": [
    "As a baseline, 0.63 is fine. I'll now compare that to a garden variety Gradient Boosting Tree Ensemble. "
   ]
  },
  {
   "cell_type": "code",
   "execution_count": 8,
   "metadata": {},
   "outputs": [
    {
     "name": "stderr",
     "output_type": "stream",
     "text": [
      "[Parallel(n_jobs=-1)]: Using backend LokyBackend with 8 concurrent workers.\n",
      "[Parallel(n_jobs=-1)]: Done   2 out of   5 | elapsed:   10.2s remaining:   15.3s\n",
      "[Parallel(n_jobs=-1)]: Done   3 out of   5 | elapsed:   10.5s remaining:    7.0s\n",
      "[Parallel(n_jobs=-1)]: Done   5 out of   5 | elapsed:   10.6s remaining:    0.0s\n",
      "[Parallel(n_jobs=-1)]: Done   5 out of   5 | elapsed:   10.6s finished\n"
     ]
    }
   ],
   "source": [
    "from xgboost import XGBClassifier\n",
    "\n",
    "model = XGBClassifier(eval_metric='merror', \n",
    "                      objective='multi:softmax', \n",
    "                      num_class=3, \n",
    "                      n_jobs=-1)\n",
    "\n",
    "model.fit(X , y)\n",
    "\n",
    "score  = (cross_val_score(model, X, y, \n",
    "                          cv = 5, \n",
    "                          scoring = 'accuracy',\n",
    "                          n_jobs = -1,\n",
    "                          verbose = 10))"
   ]
  },
  {
   "cell_type": "code",
   "execution_count": 9,
   "metadata": {},
   "outputs": [
    {
     "name": "stdout",
     "output_type": "stream",
     "text": [
      "Cross Validation Spread:  [0.741801   0.74300537 0.74254215 0.74508895 0.75555967]\n",
      "Cross Validation Mean:  0.745599431114642\n",
      "Cross Validation STDV:  0.005098454287899402\n"
     ]
    }
   ],
   "source": [
    "print('Cross Validation Spread: ', score)\n",
    "print('Cross Validation Mean: ', score.mean())\n",
    "print('Cross Validation STDV: ', np.std(score))"
   ]
  },
  {
   "cell_type": "markdown",
   "metadata": {},
   "source": [
    "Using Gradient Boosting improved our accuracy immensely, but there is room for improvement. To do so, I'll be relying on searching algorithms. These run the model multiple times which different parameters. There are 3 searching algorithms covered in this notebook:\n",
    "\n",
    "> RandomizedSearchCV is the algorithmic \"spaghetti on the wall\" approach. It takes a distribution of hyperparameters, and runs the model a number of times based the n_iter parameter. It returns a data frame with the every result, and thus can be filtered to identify the best model. This model is the piece of spaghetti that stuck the best. \n",
    "\n",
    "> GridSearchCV is a much more structured approach. Given the distribution of parameters, it will iterate through each parameter until every possible combination is explored. This can be dangerous as trying a wide spread of hyperparameters will result in the number of iterations scaling exponentially. I would recommend using a grid search as a structured way to narrow in on the top results by a RandomSearchCV. \n",
    "\n",
    "> BayesSearchCV is a class from the scikit-optimize module. In contrast to GridSearchCV, not all parameter values are tried out, but rather a fixed number of parameter settings is sampled from the specified distributions. This is similar to RandomSearchCV, but does not follow a normal distribution but rather follows the principles of [Bayesian Optimization](https://app.sigopt.com/static/pdf/SigOpt_Bayesian_Optimization_Primer.pdf). \n",
    "\n",
    "\n",
    "Each method has its own flaws. Ideally, the user has an understanding and will pick the method best suited for their purposes and available computational resources. \n",
    "\n",
    "### Random Search\n",
    "\n",
    "Random Search is an effective tool for exploratory modeling. It casts as wide of a net as you allow it in your parameters and samples evenly accross that distribution. What it returns is a snapshot of the hyperparemeter optimization space. Since it is a functionally naive approach, it is important that it is not your sole exploration into optimization. Rather, it should give you a good baseline for further hyperparameter optimization. "
   ]
  },
  {
   "cell_type": "code",
   "execution_count": 11,
   "metadata": {},
   "outputs": [],
   "source": [
    "xgbc = XGBClassifier(booster='gbtree', colsample_bylevel=1, colsample_bytree=1, max_delta_step=0, \n",
    "                     max_depth=17, min_child_weight=1, missing=None, n_estimators=100, n_jobs=-1, \n",
    "                     objective='multi:softmax',num_class=3,random_state=42, reg_alpha=0, reg_lambda=1, \n",
    "                     scale_pos_weight=1,seed=42, silent=True, subsample=1, eval_metric='merror')"
   ]
  },
  {
   "cell_type": "code",
   "execution_count": 71,
   "metadata": {},
   "outputs": [
    {
     "name": "stderr",
     "output_type": "stream",
     "text": [
      "[Parallel(n_jobs=-1)]: Using backend LokyBackend with 8 concurrent workers.\n"
     ]
    },
    {
     "name": "stdout",
     "output_type": "stream",
     "text": [
      "Fitting 3 folds for each of 100 candidates, totalling 300 fits\n"
     ]
    },
    {
     "name": "stderr",
     "output_type": "stream",
     "text": [
      "[Parallel(n_jobs=-1)]: Done   2 tasks      | elapsed:  1.1min\n",
      "[Parallel(n_jobs=-1)]: Done   9 tasks      | elapsed:  4.3min\n",
      "[Parallel(n_jobs=-1)]: Done  16 tasks      | elapsed: 11.1min\n",
      "[Parallel(n_jobs=-1)]: Done  25 tasks      | elapsed: 15.5min\n",
      "[Parallel(n_jobs=-1)]: Done  34 tasks      | elapsed: 23.2min\n",
      "[Parallel(n_jobs=-1)]: Done  45 tasks      | elapsed: 30.0min\n",
      "[Parallel(n_jobs=-1)]: Done  56 tasks      | elapsed: 35.2min\n",
      "[Parallel(n_jobs=-1)]: Done  69 tasks      | elapsed: 42.6min\n",
      "[Parallel(n_jobs=-1)]: Done  82 tasks      | elapsed: 58.5min\n",
      "[Parallel(n_jobs=-1)]: Done  97 tasks      | elapsed: 72.5min\n",
      "[Parallel(n_jobs=-1)]: Done 112 tasks      | elapsed: 85.1min\n",
      "[Parallel(n_jobs=-1)]: Done 129 tasks      | elapsed: 96.1min\n",
      "[Parallel(n_jobs=-1)]: Done 146 tasks      | elapsed: 110.1min\n",
      "[Parallel(n_jobs=-1)]: Done 165 tasks      | elapsed: 124.8min\n",
      "[Parallel(n_jobs=-1)]: Done 184 tasks      | elapsed: 148.5min\n",
      "[Parallel(n_jobs=-1)]: Done 205 tasks      | elapsed: 172.1min\n",
      "[Parallel(n_jobs=-1)]: Done 226 tasks      | elapsed: 193.4min\n",
      "[Parallel(n_jobs=-1)]: Done 249 tasks      | elapsed: 211.3min\n",
      "[Parallel(n_jobs=-1)]: Done 272 tasks      | elapsed: 231.3min\n",
      "[Parallel(n_jobs=-1)]: Done 300 out of 300 | elapsed: 257.9min finished\n"
     ]
    },
    {
     "data": {
      "text/plain": [
       "RandomizedSearchCV(cv=3, error_score='raise-deprecating',\n",
       "          estimator=XGBClassifier(base_score=0.5, booster='gbtree', colsample_bylevel=1,\n",
       "       colsample_bynode=1, colsample_bytree=1, eval_metric='merror',\n",
       "       gamma=0, learning_rate=0.1, max_delta_step=0, max_depth=17,\n",
       "       min_child_weight=1, missing=None, n_estimators=100, n_jobs=-1,\n",
       "       nthread=None, num_class=3, objective='multi:softmax',\n",
       "       random_state=42, reg_alpha=0, reg_lambda=1, scale_pos_weight=1,\n",
       "       seed=42, silent=True, subsample=1, verbosity=1),\n",
       "          fit_params=None, iid='warn', n_iter=100, n_jobs=-1,\n",
       "          param_distributions={'base_score': array([0.3 , 0.32, 0.34, 0.36, 0.38, 0.4 , 0.42, 0.44, 0.46, 0.48, 0.5 ,\n",
       "       0.52, 0.54, 0.56, 0.58, 0.6 , 0.62, 0.64, 0.66, 0.68, 0.7 ]), 'max_depth': array([ 1,  2, ..., 98, 99]), 'n_estimators': array([ 50,  51, ..., 498, 499])},\n",
       "          pre_dispatch='2*n_jobs', random_state=42, refit=True,\n",
       "          return_train_score=True, scoring='accuracy', verbose=10)"
      ]
     },
     "execution_count": 71,
     "metadata": {},
     "output_type": "execute_result"
    }
   ],
   "source": [
    "from sklearn.model_selection import RandomizedSearchCV\n",
    "\n",
    "param_distributions = {\n",
    "    'base_score': np.arange(start=0.3, stop=0.72, step=0.02),\n",
    "    'max_depth': np.arange(start=1, stop=100),\n",
    "    'n_estimators': np.arange(start=50, stop=500),\n",
    "}\n",
    "\n",
    "RSCV = RandomizedSearchCV(estimator=xgbc, \n",
    "                          param_distributions=param_distributions, \n",
    "                          n_iter=100, \n",
    "                          scoring='accuracy', \n",
    "                          n_jobs=-1, \n",
    "                          cv=3, \n",
    "                          verbose=10, \n",
    "                          random_state=42, \n",
    "                          return_train_score=True)\n",
    "\n",
    "X = df.drop(columns='status_group')\n",
    "y = df['status_group']\n",
    "\n",
    "RSCV.fit(X, y)"
   ]
  },
  {
   "cell_type": "code",
   "execution_count": 72,
   "metadata": {},
   "outputs": [
    {
     "data": {
      "text/html": [
       "<div>\n",
       "<style scoped>\n",
       "    .dataframe tbody tr th:only-of-type {\n",
       "        vertical-align: middle;\n",
       "    }\n",
       "\n",
       "    .dataframe tbody tr th {\n",
       "        vertical-align: top;\n",
       "    }\n",
       "\n",
       "    .dataframe thead th {\n",
       "        text-align: right;\n",
       "    }\n",
       "</style>\n",
       "<table border=\"1\" class=\"dataframe\">\n",
       "  <thead>\n",
       "    <tr style=\"text-align: right;\">\n",
       "      <th></th>\n",
       "      <th>mean_fit_time</th>\n",
       "      <th>std_fit_time</th>\n",
       "      <th>mean_score_time</th>\n",
       "      <th>std_score_time</th>\n",
       "      <th>param_n_estimators</th>\n",
       "      <th>param_max_depth</th>\n",
       "      <th>param_base_score</th>\n",
       "      <th>params</th>\n",
       "      <th>split0_test_score</th>\n",
       "      <th>split1_test_score</th>\n",
       "      <th>split2_test_score</th>\n",
       "      <th>mean_test_score</th>\n",
       "      <th>std_test_score</th>\n",
       "      <th>rank_test_score</th>\n",
       "      <th>split0_train_score</th>\n",
       "      <th>split1_train_score</th>\n",
       "      <th>split2_train_score</th>\n",
       "      <th>mean_train_score</th>\n",
       "      <th>std_train_score</th>\n",
       "    </tr>\n",
       "  </thead>\n",
       "  <tbody>\n",
       "    <tr>\n",
       "      <th>9</th>\n",
       "      <td>53.599962</td>\n",
       "      <td>5.678269</td>\n",
       "      <td>1.935604</td>\n",
       "      <td>0.216571</td>\n",
       "      <td>137</td>\n",
       "      <td>9</td>\n",
       "      <td>0.36</td>\n",
       "      <td>{'n_estimators': 137, 'max_depth': 9, 'base_sc...</td>\n",
       "      <td>0.800712</td>\n",
       "      <td>0.805770</td>\n",
       "      <td>0.801924</td>\n",
       "      <td>0.802802</td>\n",
       "      <td>0.002157</td>\n",
       "      <td>1</td>\n",
       "      <td>0.887984</td>\n",
       "      <td>0.892126</td>\n",
       "      <td>0.894574</td>\n",
       "      <td>0.891561</td>\n",
       "      <td>0.002720</td>\n",
       "    </tr>\n",
       "    <tr>\n",
       "      <th>91</th>\n",
       "      <td>65.375681</td>\n",
       "      <td>12.218564</td>\n",
       "      <td>2.018039</td>\n",
       "      <td>0.245977</td>\n",
       "      <td>189</td>\n",
       "      <td>8</td>\n",
       "      <td>0.44</td>\n",
       "      <td>{'n_estimators': 189, 'max_depth': 8, 'base_sc...</td>\n",
       "      <td>0.802101</td>\n",
       "      <td>0.803880</td>\n",
       "      <td>0.801701</td>\n",
       "      <td>0.802561</td>\n",
       "      <td>0.000947</td>\n",
       "      <td>2</td>\n",
       "      <td>0.879757</td>\n",
       "      <td>0.883231</td>\n",
       "      <td>0.884930</td>\n",
       "      <td>0.882639</td>\n",
       "      <td>0.002153</td>\n",
       "    </tr>\n",
       "    <tr>\n",
       "      <th>93</th>\n",
       "      <td>38.185923</td>\n",
       "      <td>0.295049</td>\n",
       "      <td>1.719757</td>\n",
       "      <td>0.138035</td>\n",
       "      <td>86</td>\n",
       "      <td>11</td>\n",
       "      <td>0.42</td>\n",
       "      <td>{'n_estimators': 86, 'max_depth': 11, 'base_sc...</td>\n",
       "      <td>0.801990</td>\n",
       "      <td>0.803880</td>\n",
       "      <td>0.801646</td>\n",
       "      <td>0.802505</td>\n",
       "      <td>0.000982</td>\n",
       "      <td>3</td>\n",
       "      <td>0.909915</td>\n",
       "      <td>0.912388</td>\n",
       "      <td>0.915893</td>\n",
       "      <td>0.912732</td>\n",
       "      <td>0.002453</td>\n",
       "    </tr>\n",
       "    <tr>\n",
       "      <th>86</th>\n",
       "      <td>165.606594</td>\n",
       "      <td>30.432213</td>\n",
       "      <td>10.139067</td>\n",
       "      <td>2.108820</td>\n",
       "      <td>439</td>\n",
       "      <td>9</td>\n",
       "      <td>0.66</td>\n",
       "      <td>{'n_estimators': 439, 'max_depth': 9, 'base_sc...</td>\n",
       "      <td>0.801212</td>\n",
       "      <td>0.803213</td>\n",
       "      <td>0.801868</td>\n",
       "      <td>0.802098</td>\n",
       "      <td>0.000833</td>\n",
       "      <td>4</td>\n",
       "      <td>0.950135</td>\n",
       "      <td>0.951358</td>\n",
       "      <td>0.952165</td>\n",
       "      <td>0.951219</td>\n",
       "      <td>0.000835</td>\n",
       "    </tr>\n",
       "    <tr>\n",
       "      <th>22</th>\n",
       "      <td>104.476088</td>\n",
       "      <td>6.634026</td>\n",
       "      <td>6.670878</td>\n",
       "      <td>1.371982</td>\n",
       "      <td>165</td>\n",
       "      <td>13</td>\n",
       "      <td>0.62</td>\n",
       "      <td>{'n_estimators': 165, 'max_depth': 13, 'base_s...</td>\n",
       "      <td>0.801323</td>\n",
       "      <td>0.798599</td>\n",
       "      <td>0.802257</td>\n",
       "      <td>0.800726</td>\n",
       "      <td>0.001552</td>\n",
       "      <td>5</td>\n",
       "      <td>0.964894</td>\n",
       "      <td>0.964311</td>\n",
       "      <td>0.967702</td>\n",
       "      <td>0.965636</td>\n",
       "      <td>0.001481</td>\n",
       "    </tr>\n",
       "  </tbody>\n",
       "</table>\n",
       "</div>"
      ],
      "text/plain": [
       "    mean_fit_time  std_fit_time  mean_score_time  std_score_time  \\\n",
       "9       53.599962      5.678269         1.935604        0.216571   \n",
       "91      65.375681     12.218564         2.018039        0.245977   \n",
       "93      38.185923      0.295049         1.719757        0.138035   \n",
       "86     165.606594     30.432213        10.139067        2.108820   \n",
       "22     104.476088      6.634026         6.670878        1.371982   \n",
       "\n",
       "   param_n_estimators param_max_depth param_base_score  \\\n",
       "9                 137               9             0.36   \n",
       "91                189               8             0.44   \n",
       "93                 86              11             0.42   \n",
       "86                439               9             0.66   \n",
       "22                165              13             0.62   \n",
       "\n",
       "                                               params  split0_test_score  \\\n",
       "9   {'n_estimators': 137, 'max_depth': 9, 'base_sc...           0.800712   \n",
       "91  {'n_estimators': 189, 'max_depth': 8, 'base_sc...           0.802101   \n",
       "93  {'n_estimators': 86, 'max_depth': 11, 'base_sc...           0.801990   \n",
       "86  {'n_estimators': 439, 'max_depth': 9, 'base_sc...           0.801212   \n",
       "22  {'n_estimators': 165, 'max_depth': 13, 'base_s...           0.801323   \n",
       "\n",
       "    split1_test_score  split2_test_score  mean_test_score  std_test_score  \\\n",
       "9            0.805770           0.801924         0.802802        0.002157   \n",
       "91           0.803880           0.801701         0.802561        0.000947   \n",
       "93           0.803880           0.801646         0.802505        0.000982   \n",
       "86           0.803213           0.801868         0.802098        0.000833   \n",
       "22           0.798599           0.802257         0.800726        0.001552   \n",
       "\n",
       "    rank_test_score  split0_train_score  split1_train_score  \\\n",
       "9                 1            0.887984            0.892126   \n",
       "91                2            0.879757            0.883231   \n",
       "93                3            0.909915            0.912388   \n",
       "86                4            0.950135            0.951358   \n",
       "22                5            0.964894            0.964311   \n",
       "\n",
       "    split2_train_score  mean_train_score  std_train_score  \n",
       "9             0.894574          0.891561         0.002720  \n",
       "91            0.884930          0.882639         0.002153  \n",
       "93            0.915893          0.912732         0.002453  \n",
       "86            0.952165          0.951219         0.000835  \n",
       "22            0.967702          0.965636         0.001481  "
      ]
     },
     "execution_count": 72,
     "metadata": {},
     "output_type": "execute_result"
    }
   ],
   "source": [
    "results_RSCV = pd.DataFrame(RSCV.cv_results_)\n",
    "results_RSCV.sort_values(by='rank_test_score').head()"
   ]
  },
  {
   "cell_type": "code",
   "execution_count": 73,
   "metadata": {},
   "outputs": [
    {
     "data": {
      "text/plain": [
       "XGBClassifier(base_score=0.36000000000000004, booster='gbtree',\n",
       "       colsample_bylevel=1, colsample_bynode=1, colsample_bytree=1,\n",
       "       eval_metric='merror', gamma=0, learning_rate=0.1, max_delta_step=0,\n",
       "       max_depth=9, min_child_weight=1, missing=None, n_estimators=137,\n",
       "       n_jobs=-1, nthread=None, num_class=3, objective='multi:softprob',\n",
       "       random_state=42, reg_alpha=0, reg_lambda=1, scale_pos_weight=1,\n",
       "       seed=42, silent=True, subsample=1, verbosity=1)"
      ]
     },
     "execution_count": 73,
     "metadata": {},
     "output_type": "execute_result"
    }
   ],
   "source": [
    "RSCV.best_estimator_"
   ]
  },
  {
   "cell_type": "markdown",
   "metadata": {},
   "source": [
    "### Grid Search\n",
    "\n",
    "something about grid search"
   ]
  },
  {
   "cell_type": "code",
   "execution_count": 74,
   "metadata": {},
   "outputs": [
    {
     "name": "stdout",
     "output_type": "stream",
     "text": [
      "Fitting 3 folds for each of 54 candidates, totalling 162 fits\n"
     ]
    },
    {
     "name": "stderr",
     "output_type": "stream",
     "text": [
      "[Parallel(n_jobs=-1)]: Using backend LokyBackend with 8 concurrent workers.\n",
      "[Parallel(n_jobs=-1)]: Done   2 tasks      | elapsed:   53.1s\n",
      "[Parallel(n_jobs=-1)]: Done   9 tasks      | elapsed:  1.9min\n",
      "[Parallel(n_jobs=-1)]: Done  16 tasks      | elapsed:  2.2min\n",
      "[Parallel(n_jobs=-1)]: Done  25 tasks      | elapsed:  4.5min\n",
      "[Parallel(n_jobs=-1)]: Done  34 tasks      | elapsed:  6.1min\n",
      "[Parallel(n_jobs=-1)]: Done  45 tasks      | elapsed:  8.0min\n",
      "[Parallel(n_jobs=-1)]: Done  56 tasks      | elapsed:  9.8min\n",
      "[Parallel(n_jobs=-1)]: Done  69 tasks      | elapsed: 11.5min\n",
      "[Parallel(n_jobs=-1)]: Done  82 tasks      | elapsed: 13.3min\n",
      "[Parallel(n_jobs=-1)]: Done  97 tasks      | elapsed: 16.0min\n",
      "[Parallel(n_jobs=-1)]: Done 112 tasks      | elapsed: 17.9min\n",
      "[Parallel(n_jobs=-1)]: Done 129 tasks      | elapsed: 19.9min\n",
      "[Parallel(n_jobs=-1)]: Done 146 tasks      | elapsed: 22.3min\n",
      "[Parallel(n_jobs=-1)]: Done 162 out of 162 | elapsed: 24.6min finished\n"
     ]
    },
    {
     "data": {
      "text/plain": [
       "GridSearchCV(cv=3, error_score='raise-deprecating',\n",
       "       estimator=XGBClassifier(base_score=0.5, booster='gbtree', colsample_bylevel=1,\n",
       "       colsample_bynode=1, colsample_bytree=1, eval_metric='merror',\n",
       "       gamma=0, learning_rate=0.1, max_delta_step=0, max_depth=17,\n",
       "       min_child_weight=1, missing=None, n_estimators=100, n_jobs=-1,\n",
       "       nthread=None, num_class=3, objective='multi:softmax',\n",
       "       random_state=42, reg_alpha=0, reg_lambda=1, scale_pos_weight=1,\n",
       "       seed=42, silent=True, subsample=1, verbosity=1),\n",
       "       fit_params=None, iid='warn', n_jobs=-1,\n",
       "       param_grid={'base_score': [0.65], 'max_depth': [9, 10, 11, 12, 13, 14], 'gamma': [0, 1, 5], 'n_estimators': [137, 142, 165]},\n",
       "       pre_dispatch='2*n_jobs', refit=True, return_train_score=True,\n",
       "       scoring='accuracy', verbose=10)"
      ]
     },
     "execution_count": 74,
     "metadata": {},
     "output_type": "execute_result"
    }
   ],
   "source": [
    "from sklearn.model_selection import GridSearchCV\n",
    "\n",
    "param_distributions = {\n",
    "    'base_score': [0.65],\n",
    "    'max_depth': [9,10,11,12,13,14],\n",
    "    'gamma': [0,1,5],\n",
    "    'n_estimators': [137, 142, 165]\n",
    "}\n",
    "\n",
    "\n",
    "\n",
    "\n",
    "GSCV = GridSearchCV(estimator=xgbc, \n",
    "                    param_grid=param_distributions, \n",
    "                    scoring='accuracy', \n",
    "                    n_jobs=-1,\n",
    "                    refit=True, \n",
    "                    cv=3, \n",
    "                    verbose=10, \n",
    "                    return_train_score=True)\n",
    "\n",
    "X = df.drop(columns='status_group')\n",
    "y = df['status_group']\n",
    "\n",
    "GSCV.fit(X, y)"
   ]
  },
  {
   "cell_type": "code",
   "execution_count": 75,
   "metadata": {},
   "outputs": [
    {
     "data": {
      "text/html": [
       "<div>\n",
       "<style scoped>\n",
       "    .dataframe tbody tr th:only-of-type {\n",
       "        vertical-align: middle;\n",
       "    }\n",
       "\n",
       "    .dataframe tbody tr th {\n",
       "        vertical-align: top;\n",
       "    }\n",
       "\n",
       "    .dataframe thead th {\n",
       "        text-align: right;\n",
       "    }\n",
       "</style>\n",
       "<table border=\"1\" class=\"dataframe\">\n",
       "  <thead>\n",
       "    <tr style=\"text-align: right;\">\n",
       "      <th></th>\n",
       "      <th>mean_fit_time</th>\n",
       "      <th>std_fit_time</th>\n",
       "      <th>mean_score_time</th>\n",
       "      <th>std_score_time</th>\n",
       "      <th>param_base_score</th>\n",
       "      <th>param_gamma</th>\n",
       "      <th>param_max_depth</th>\n",
       "      <th>param_n_estimators</th>\n",
       "      <th>params</th>\n",
       "      <th>split0_test_score</th>\n",
       "      <th>split1_test_score</th>\n",
       "      <th>split2_test_score</th>\n",
       "      <th>mean_test_score</th>\n",
       "      <th>std_test_score</th>\n",
       "      <th>rank_test_score</th>\n",
       "      <th>split0_train_score</th>\n",
       "      <th>split1_train_score</th>\n",
       "      <th>split2_train_score</th>\n",
       "      <th>mean_train_score</th>\n",
       "      <th>std_train_score</th>\n",
       "    </tr>\n",
       "  </thead>\n",
       "  <tbody>\n",
       "    <tr>\n",
       "      <th>5</th>\n",
       "      <td>61.463810</td>\n",
       "      <td>0.156379</td>\n",
       "      <td>3.483364</td>\n",
       "      <td>0.900768</td>\n",
       "      <td>0.65</td>\n",
       "      <td>0</td>\n",
       "      <td>10</td>\n",
       "      <td>165</td>\n",
       "      <td>{'base_score': 0.65, 'gamma': 0, 'max_depth': ...</td>\n",
       "      <td>0.804436</td>\n",
       "      <td>0.805325</td>\n",
       "      <td>0.803202</td>\n",
       "      <td>0.804321</td>\n",
       "      <td>0.000871</td>\n",
       "      <td>1</td>\n",
       "      <td>0.918642</td>\n",
       "      <td>0.922367</td>\n",
       "      <td>0.927261</td>\n",
       "      <td>0.922757</td>\n",
       "      <td>0.003529</td>\n",
       "    </tr>\n",
       "    <tr>\n",
       "      <th>8</th>\n",
       "      <td>68.172696</td>\n",
       "      <td>0.185891</td>\n",
       "      <td>7.763075</td>\n",
       "      <td>0.786404</td>\n",
       "      <td>0.65</td>\n",
       "      <td>0</td>\n",
       "      <td>11</td>\n",
       "      <td>165</td>\n",
       "      <td>{'base_score': 0.65, 'gamma': 0, 'max_depth': ...</td>\n",
       "      <td>0.802602</td>\n",
       "      <td>0.806437</td>\n",
       "      <td>0.802479</td>\n",
       "      <td>0.803839</td>\n",
       "      <td>0.001838</td>\n",
       "      <td>2</td>\n",
       "      <td>0.936988</td>\n",
       "      <td>0.939906</td>\n",
       "      <td>0.944327</td>\n",
       "      <td>0.940407</td>\n",
       "      <td>0.003017</td>\n",
       "    </tr>\n",
       "    <tr>\n",
       "      <th>29</th>\n",
       "      <td>70.516683</td>\n",
       "      <td>0.789124</td>\n",
       "      <td>3.829289</td>\n",
       "      <td>0.712486</td>\n",
       "      <td>0.65</td>\n",
       "      <td>1</td>\n",
       "      <td>12</td>\n",
       "      <td>165</td>\n",
       "      <td>{'base_score': 0.65, 'gamma': 1, 'max_depth': ...</td>\n",
       "      <td>0.802379</td>\n",
       "      <td>0.805492</td>\n",
       "      <td>0.803480</td>\n",
       "      <td>0.803784</td>\n",
       "      <td>0.001289</td>\n",
       "      <td>3</td>\n",
       "      <td>0.916447</td>\n",
       "      <td>0.919171</td>\n",
       "      <td>0.918228</td>\n",
       "      <td>0.917948</td>\n",
       "      <td>0.001129</td>\n",
       "    </tr>\n",
       "    <tr>\n",
       "      <th>28</th>\n",
       "      <td>64.105373</td>\n",
       "      <td>1.361175</td>\n",
       "      <td>2.070654</td>\n",
       "      <td>0.026444</td>\n",
       "      <td>0.65</td>\n",
       "      <td>1</td>\n",
       "      <td>12</td>\n",
       "      <td>142</td>\n",
       "      <td>{'base_score': 0.65, 'gamma': 1, 'max_depth': ...</td>\n",
       "      <td>0.802602</td>\n",
       "      <td>0.805103</td>\n",
       "      <td>0.803425</td>\n",
       "      <td>0.803710</td>\n",
       "      <td>0.001041</td>\n",
       "      <td>4</td>\n",
       "      <td>0.913584</td>\n",
       "      <td>0.916002</td>\n",
       "      <td>0.918172</td>\n",
       "      <td>0.915919</td>\n",
       "      <td>0.001874</td>\n",
       "    </tr>\n",
       "    <tr>\n",
       "      <th>4</th>\n",
       "      <td>53.216915</td>\n",
       "      <td>0.437224</td>\n",
       "      <td>3.257336</td>\n",
       "      <td>0.607072</td>\n",
       "      <td>0.65</td>\n",
       "      <td>0</td>\n",
       "      <td>10</td>\n",
       "      <td>142</td>\n",
       "      <td>{'base_score': 0.65, 'gamma': 0, 'max_depth': ...</td>\n",
       "      <td>0.803102</td>\n",
       "      <td>0.805381</td>\n",
       "      <td>0.802646</td>\n",
       "      <td>0.803710</td>\n",
       "      <td>0.001196</td>\n",
       "      <td>4</td>\n",
       "      <td>0.909331</td>\n",
       "      <td>0.915001</td>\n",
       "      <td>0.919006</td>\n",
       "      <td>0.914446</td>\n",
       "      <td>0.003969</td>\n",
       "    </tr>\n",
       "  </tbody>\n",
       "</table>\n",
       "</div>"
      ],
      "text/plain": [
       "    mean_fit_time  std_fit_time  mean_score_time  std_score_time  \\\n",
       "5       61.463810      0.156379         3.483364        0.900768   \n",
       "8       68.172696      0.185891         7.763075        0.786404   \n",
       "29      70.516683      0.789124         3.829289        0.712486   \n",
       "28      64.105373      1.361175         2.070654        0.026444   \n",
       "4       53.216915      0.437224         3.257336        0.607072   \n",
       "\n",
       "   param_base_score param_gamma param_max_depth param_n_estimators  \\\n",
       "5              0.65           0              10                165   \n",
       "8              0.65           0              11                165   \n",
       "29             0.65           1              12                165   \n",
       "28             0.65           1              12                142   \n",
       "4              0.65           0              10                142   \n",
       "\n",
       "                                               params  split0_test_score  \\\n",
       "5   {'base_score': 0.65, 'gamma': 0, 'max_depth': ...           0.804436   \n",
       "8   {'base_score': 0.65, 'gamma': 0, 'max_depth': ...           0.802602   \n",
       "29  {'base_score': 0.65, 'gamma': 1, 'max_depth': ...           0.802379   \n",
       "28  {'base_score': 0.65, 'gamma': 1, 'max_depth': ...           0.802602   \n",
       "4   {'base_score': 0.65, 'gamma': 0, 'max_depth': ...           0.803102   \n",
       "\n",
       "    split1_test_score  split2_test_score  mean_test_score  std_test_score  \\\n",
       "5            0.805325           0.803202         0.804321        0.000871   \n",
       "8            0.806437           0.802479         0.803839        0.001838   \n",
       "29           0.805492           0.803480         0.803784        0.001289   \n",
       "28           0.805103           0.803425         0.803710        0.001041   \n",
       "4            0.805381           0.802646         0.803710        0.001196   \n",
       "\n",
       "    rank_test_score  split0_train_score  split1_train_score  \\\n",
       "5                 1            0.918642            0.922367   \n",
       "8                 2            0.936988            0.939906   \n",
       "29                3            0.916447            0.919171   \n",
       "28                4            0.913584            0.916002   \n",
       "4                 4            0.909331            0.915001   \n",
       "\n",
       "    split2_train_score  mean_train_score  std_train_score  \n",
       "5             0.927261          0.922757         0.003529  \n",
       "8             0.944327          0.940407         0.003017  \n",
       "29            0.918228          0.917948         0.001129  \n",
       "28            0.918172          0.915919         0.001874  \n",
       "4             0.919006          0.914446         0.003969  "
      ]
     },
     "execution_count": 75,
     "metadata": {},
     "output_type": "execute_result"
    }
   ],
   "source": [
    "results_GSCV = pd.DataFrame(GSCV.cv_results_)\n",
    "results_GSCV.sort_values(by='rank_test_score').head()"
   ]
  },
  {
   "cell_type": "code",
   "execution_count": 76,
   "metadata": {},
   "outputs": [
    {
     "data": {
      "text/plain": [
       "XGBClassifier(base_score=0.65, booster='gbtree', colsample_bylevel=1,\n",
       "       colsample_bynode=1, colsample_bytree=1, eval_metric='merror',\n",
       "       gamma=0, learning_rate=0.1, max_delta_step=0, max_depth=10,\n",
       "       min_child_weight=1, missing=None, n_estimators=165, n_jobs=-1,\n",
       "       nthread=None, num_class=3, objective='multi:softprob',\n",
       "       random_state=42, reg_alpha=0, reg_lambda=1, scale_pos_weight=1,\n",
       "       seed=42, silent=True, subsample=1, verbosity=1)"
      ]
     },
     "execution_count": 76,
     "metadata": {},
     "output_type": "execute_result"
    }
   ],
   "source": [
    "GSCV.best_estimator_"
   ]
  },
  {
   "cell_type": "markdown",
   "metadata": {},
   "source": [
    "### Bayesian Optimization\n",
    "\n",
    "Mention Skopt, as well as other libraries"
   ]
  },
  {
   "cell_type": "code",
   "execution_count": 13,
   "metadata": {
    "collapsed": true,
    "jupyter": {
     "outputs_hidden": true
    }
   },
   "outputs": [
    {
     "name": "stdout",
     "output_type": "stream",
     "text": [
      "Fitting 3 folds for each of 20 candidates, totalling 60 fits\n"
     ]
    },
    {
     "name": "stderr",
     "output_type": "stream",
     "text": [
      "[Parallel(n_jobs=-1)]: Using backend LokyBackend with 8 concurrent workers.\n",
      "[Parallel(n_jobs=-1)]: Done   2 tasks      | elapsed:  2.2min\n",
      "[Parallel(n_jobs=-1)]: Done   9 tasks      | elapsed:  5.7min\n",
      "[Parallel(n_jobs=-1)]: Done  16 tasks      | elapsed: 11.9min\n",
      "[Parallel(n_jobs=-1)]: Done  25 tasks      | elapsed: 16.9min\n",
      "[Parallel(n_jobs=-1)]: Done  34 tasks      | elapsed: 18.9min\n",
      "[Parallel(n_jobs=-1)]: Done  50 out of  59 | elapsed: 26.8min remaining:  4.8min\n",
      "[Parallel(n_jobs=-1)]: Done  56 out of  59 | elapsed: 26.8min remaining:  1.4min\n"
     ]
    },
    {
     "ename": "KeyboardInterrupt",
     "evalue": "",
     "output_type": "error",
     "traceback": [
      "\u001b[0;31m---------------------------------------------------------------------------\u001b[0m",
      "\u001b[0;31mKeyboardInterrupt\u001b[0m                         Traceback (most recent call last)",
      "\u001b[0;32m<ipython-input-13-5af0e7a5fed3>\u001b[0m in \u001b[0;36m<module>\u001b[0;34m\u001b[0m\n\u001b[1;32m     22\u001b[0m                       return_train_score=True)\n\u001b[1;32m     23\u001b[0m \u001b[0;34m\u001b[0m\u001b[0m\n\u001b[0;32m---> 24\u001b[0;31m \u001b[0mBSCV\u001b[0m\u001b[0;34m.\u001b[0m\u001b[0mfit\u001b[0m\u001b[0;34m(\u001b[0m\u001b[0mX\u001b[0m\u001b[0;34m,\u001b[0m \u001b[0my\u001b[0m\u001b[0;34m)\u001b[0m\u001b[0;34m\u001b[0m\u001b[0;34m\u001b[0m\u001b[0m\n\u001b[0m",
      "\u001b[0;32m~/anaconda3/lib/python3.7/site-packages/skopt/searchcv.py\u001b[0m in \u001b[0;36mfit\u001b[0;34m(self, X, y, groups, callback)\u001b[0m\n\u001b[1;32m    652\u001b[0m                 optim_result = self._step(\n\u001b[1;32m    653\u001b[0m                     \u001b[0mX\u001b[0m\u001b[0;34m,\u001b[0m \u001b[0my\u001b[0m\u001b[0;34m,\u001b[0m \u001b[0msearch_space\u001b[0m\u001b[0;34m,\u001b[0m \u001b[0moptimizer\u001b[0m\u001b[0;34m,\u001b[0m\u001b[0;34m\u001b[0m\u001b[0;34m\u001b[0m\u001b[0m\n\u001b[0;32m--> 654\u001b[0;31m                     \u001b[0mgroups\u001b[0m\u001b[0;34m=\u001b[0m\u001b[0mgroups\u001b[0m\u001b[0;34m,\u001b[0m \u001b[0mn_points\u001b[0m\u001b[0;34m=\u001b[0m\u001b[0mn_points_adjusted\u001b[0m\u001b[0;34m\u001b[0m\u001b[0;34m\u001b[0m\u001b[0m\n\u001b[0m\u001b[1;32m    655\u001b[0m                 )\n\u001b[1;32m    656\u001b[0m                 \u001b[0mn_iter\u001b[0m \u001b[0;34m-=\u001b[0m \u001b[0mn_points\u001b[0m\u001b[0;34m\u001b[0m\u001b[0;34m\u001b[0m\u001b[0m\n",
      "\u001b[0;32m~/anaconda3/lib/python3.7/site-packages/skopt/searchcv.py\u001b[0m in \u001b[0;36m_step\u001b[0;34m(self, X, y, search_space, optimizer, groups, n_points)\u001b[0m\n\u001b[1;32m    548\u001b[0m         \u001b[0mrefit\u001b[0m \u001b[0;34m=\u001b[0m \u001b[0mself\u001b[0m\u001b[0;34m.\u001b[0m\u001b[0mrefit\u001b[0m\u001b[0;34m\u001b[0m\u001b[0;34m\u001b[0m\u001b[0m\n\u001b[1;32m    549\u001b[0m         \u001b[0mself\u001b[0m\u001b[0;34m.\u001b[0m\u001b[0mrefit\u001b[0m \u001b[0;34m=\u001b[0m \u001b[0;32mFalse\u001b[0m\u001b[0;34m\u001b[0m\u001b[0;34m\u001b[0m\u001b[0m\n\u001b[0;32m--> 550\u001b[0;31m         \u001b[0mself\u001b[0m\u001b[0;34m.\u001b[0m\u001b[0m_fit\u001b[0m\u001b[0;34m(\u001b[0m\u001b[0mX\u001b[0m\u001b[0;34m,\u001b[0m \u001b[0my\u001b[0m\u001b[0;34m,\u001b[0m \u001b[0mgroups\u001b[0m\u001b[0;34m,\u001b[0m \u001b[0mparams_dict\u001b[0m\u001b[0;34m)\u001b[0m\u001b[0;34m\u001b[0m\u001b[0;34m\u001b[0m\u001b[0m\n\u001b[0m\u001b[1;32m    551\u001b[0m         \u001b[0mself\u001b[0m\u001b[0;34m.\u001b[0m\u001b[0mrefit\u001b[0m \u001b[0;34m=\u001b[0m \u001b[0mrefit\u001b[0m\u001b[0;34m\u001b[0m\u001b[0;34m\u001b[0m\u001b[0m\n\u001b[1;32m    552\u001b[0m \u001b[0;34m\u001b[0m\u001b[0m\n",
      "\u001b[0;32m~/anaconda3/lib/python3.7/site-packages/skopt/searchcv.py\u001b[0m in \u001b[0;36m_fit\u001b[0;34m(self, X, y, groups, parameter_iterable)\u001b[0m\n\u001b[1;32m    401\u001b[0m                 \u001b[0merror_score\u001b[0m\u001b[0;34m=\u001b[0m\u001b[0mself\u001b[0m\u001b[0;34m.\u001b[0m\u001b[0merror_score\u001b[0m\u001b[0;34m\u001b[0m\u001b[0;34m\u001b[0m\u001b[0m\n\u001b[1;32m    402\u001b[0m             )\n\u001b[0;32m--> 403\u001b[0;31m             \u001b[0;32mfor\u001b[0m \u001b[0mparameters\u001b[0m \u001b[0;32min\u001b[0m \u001b[0mparameter_iterable\u001b[0m\u001b[0;34m\u001b[0m\u001b[0;34m\u001b[0m\u001b[0m\n\u001b[0m\u001b[1;32m    404\u001b[0m             for train, test in cv_iter)\n\u001b[1;32m    405\u001b[0m \u001b[0;34m\u001b[0m\u001b[0m\n",
      "\u001b[0;32m~/anaconda3/lib/python3.7/site-packages/sklearn/externals/joblib/parallel.py\u001b[0m in \u001b[0;36m__call__\u001b[0;34m(self, iterable)\u001b[0m\n\u001b[1;32m    928\u001b[0m \u001b[0;34m\u001b[0m\u001b[0m\n\u001b[1;32m    929\u001b[0m             \u001b[0;32mwith\u001b[0m \u001b[0mself\u001b[0m\u001b[0;34m.\u001b[0m\u001b[0m_backend\u001b[0m\u001b[0;34m.\u001b[0m\u001b[0mretrieval_context\u001b[0m\u001b[0;34m(\u001b[0m\u001b[0;34m)\u001b[0m\u001b[0;34m:\u001b[0m\u001b[0;34m\u001b[0m\u001b[0;34m\u001b[0m\u001b[0m\n\u001b[0;32m--> 930\u001b[0;31m                 \u001b[0mself\u001b[0m\u001b[0;34m.\u001b[0m\u001b[0mretrieve\u001b[0m\u001b[0;34m(\u001b[0m\u001b[0;34m)\u001b[0m\u001b[0;34m\u001b[0m\u001b[0;34m\u001b[0m\u001b[0m\n\u001b[0m\u001b[1;32m    931\u001b[0m             \u001b[0;31m# Make sure that we get a last message telling us we are done\u001b[0m\u001b[0;34m\u001b[0m\u001b[0;34m\u001b[0m\u001b[0;34m\u001b[0m\u001b[0m\n\u001b[1;32m    932\u001b[0m             \u001b[0melapsed_time\u001b[0m \u001b[0;34m=\u001b[0m \u001b[0mtime\u001b[0m\u001b[0;34m.\u001b[0m\u001b[0mtime\u001b[0m\u001b[0;34m(\u001b[0m\u001b[0;34m)\u001b[0m \u001b[0;34m-\u001b[0m \u001b[0mself\u001b[0m\u001b[0;34m.\u001b[0m\u001b[0m_start_time\u001b[0m\u001b[0;34m\u001b[0m\u001b[0;34m\u001b[0m\u001b[0m\n",
      "\u001b[0;32m~/anaconda3/lib/python3.7/site-packages/sklearn/externals/joblib/parallel.py\u001b[0m in \u001b[0;36mretrieve\u001b[0;34m(self)\u001b[0m\n\u001b[1;32m    831\u001b[0m             \u001b[0;32mtry\u001b[0m\u001b[0;34m:\u001b[0m\u001b[0;34m\u001b[0m\u001b[0;34m\u001b[0m\u001b[0m\n\u001b[1;32m    832\u001b[0m                 \u001b[0;32mif\u001b[0m \u001b[0mgetattr\u001b[0m\u001b[0;34m(\u001b[0m\u001b[0mself\u001b[0m\u001b[0;34m.\u001b[0m\u001b[0m_backend\u001b[0m\u001b[0;34m,\u001b[0m \u001b[0;34m'supports_timeout'\u001b[0m\u001b[0;34m,\u001b[0m \u001b[0;32mFalse\u001b[0m\u001b[0;34m)\u001b[0m\u001b[0;34m:\u001b[0m\u001b[0;34m\u001b[0m\u001b[0;34m\u001b[0m\u001b[0m\n\u001b[0;32m--> 833\u001b[0;31m                     \u001b[0mself\u001b[0m\u001b[0;34m.\u001b[0m\u001b[0m_output\u001b[0m\u001b[0;34m.\u001b[0m\u001b[0mextend\u001b[0m\u001b[0;34m(\u001b[0m\u001b[0mjob\u001b[0m\u001b[0;34m.\u001b[0m\u001b[0mget\u001b[0m\u001b[0;34m(\u001b[0m\u001b[0mtimeout\u001b[0m\u001b[0;34m=\u001b[0m\u001b[0mself\u001b[0m\u001b[0;34m.\u001b[0m\u001b[0mtimeout\u001b[0m\u001b[0;34m)\u001b[0m\u001b[0;34m)\u001b[0m\u001b[0;34m\u001b[0m\u001b[0;34m\u001b[0m\u001b[0m\n\u001b[0m\u001b[1;32m    834\u001b[0m                 \u001b[0;32melse\u001b[0m\u001b[0;34m:\u001b[0m\u001b[0;34m\u001b[0m\u001b[0;34m\u001b[0m\u001b[0m\n\u001b[1;32m    835\u001b[0m                     \u001b[0mself\u001b[0m\u001b[0;34m.\u001b[0m\u001b[0m_output\u001b[0m\u001b[0;34m.\u001b[0m\u001b[0mextend\u001b[0m\u001b[0;34m(\u001b[0m\u001b[0mjob\u001b[0m\u001b[0;34m.\u001b[0m\u001b[0mget\u001b[0m\u001b[0;34m(\u001b[0m\u001b[0;34m)\u001b[0m\u001b[0;34m)\u001b[0m\u001b[0;34m\u001b[0m\u001b[0;34m\u001b[0m\u001b[0m\n",
      "\u001b[0;32m~/anaconda3/lib/python3.7/site-packages/sklearn/externals/joblib/_parallel_backends.py\u001b[0m in \u001b[0;36mwrap_future_result\u001b[0;34m(future, timeout)\u001b[0m\n\u001b[1;32m    519\u001b[0m         AsyncResults.get from multiprocessing.\"\"\"\n\u001b[1;32m    520\u001b[0m         \u001b[0;32mtry\u001b[0m\u001b[0;34m:\u001b[0m\u001b[0;34m\u001b[0m\u001b[0;34m\u001b[0m\u001b[0m\n\u001b[0;32m--> 521\u001b[0;31m             \u001b[0;32mreturn\u001b[0m \u001b[0mfuture\u001b[0m\u001b[0;34m.\u001b[0m\u001b[0mresult\u001b[0m\u001b[0;34m(\u001b[0m\u001b[0mtimeout\u001b[0m\u001b[0;34m=\u001b[0m\u001b[0mtimeout\u001b[0m\u001b[0;34m)\u001b[0m\u001b[0;34m\u001b[0m\u001b[0;34m\u001b[0m\u001b[0m\n\u001b[0m\u001b[1;32m    522\u001b[0m         \u001b[0;32mexcept\u001b[0m \u001b[0mLokyTimeoutError\u001b[0m\u001b[0;34m:\u001b[0m\u001b[0;34m\u001b[0m\u001b[0;34m\u001b[0m\u001b[0m\n\u001b[1;32m    523\u001b[0m             \u001b[0;32mraise\u001b[0m \u001b[0mTimeoutError\u001b[0m\u001b[0;34m(\u001b[0m\u001b[0;34m)\u001b[0m\u001b[0;34m\u001b[0m\u001b[0;34m\u001b[0m\u001b[0m\n",
      "\u001b[0;32m~/anaconda3/lib/python3.7/concurrent/futures/_base.py\u001b[0m in \u001b[0;36mresult\u001b[0;34m(self, timeout)\u001b[0m\n\u001b[1;32m    425\u001b[0m                 \u001b[0;32mreturn\u001b[0m \u001b[0mself\u001b[0m\u001b[0;34m.\u001b[0m\u001b[0m__get_result\u001b[0m\u001b[0;34m(\u001b[0m\u001b[0;34m)\u001b[0m\u001b[0;34m\u001b[0m\u001b[0;34m\u001b[0m\u001b[0m\n\u001b[1;32m    426\u001b[0m \u001b[0;34m\u001b[0m\u001b[0m\n\u001b[0;32m--> 427\u001b[0;31m             \u001b[0mself\u001b[0m\u001b[0;34m.\u001b[0m\u001b[0m_condition\u001b[0m\u001b[0;34m.\u001b[0m\u001b[0mwait\u001b[0m\u001b[0;34m(\u001b[0m\u001b[0mtimeout\u001b[0m\u001b[0;34m)\u001b[0m\u001b[0;34m\u001b[0m\u001b[0;34m\u001b[0m\u001b[0m\n\u001b[0m\u001b[1;32m    428\u001b[0m \u001b[0;34m\u001b[0m\u001b[0m\n\u001b[1;32m    429\u001b[0m             \u001b[0;32mif\u001b[0m \u001b[0mself\u001b[0m\u001b[0;34m.\u001b[0m\u001b[0m_state\u001b[0m \u001b[0;32min\u001b[0m \u001b[0;34m[\u001b[0m\u001b[0mCANCELLED\u001b[0m\u001b[0;34m,\u001b[0m \u001b[0mCANCELLED_AND_NOTIFIED\u001b[0m\u001b[0;34m]\u001b[0m\u001b[0;34m:\u001b[0m\u001b[0;34m\u001b[0m\u001b[0;34m\u001b[0m\u001b[0m\n",
      "\u001b[0;32m~/anaconda3/lib/python3.7/threading.py\u001b[0m in \u001b[0;36mwait\u001b[0;34m(self, timeout)\u001b[0m\n\u001b[1;32m    294\u001b[0m         \u001b[0;32mtry\u001b[0m\u001b[0;34m:\u001b[0m    \u001b[0;31m# restore state no matter what (e.g., KeyboardInterrupt)\u001b[0m\u001b[0;34m\u001b[0m\u001b[0;34m\u001b[0m\u001b[0m\n\u001b[1;32m    295\u001b[0m             \u001b[0;32mif\u001b[0m \u001b[0mtimeout\u001b[0m \u001b[0;32mis\u001b[0m \u001b[0;32mNone\u001b[0m\u001b[0;34m:\u001b[0m\u001b[0;34m\u001b[0m\u001b[0;34m\u001b[0m\u001b[0m\n\u001b[0;32m--> 296\u001b[0;31m                 \u001b[0mwaiter\u001b[0m\u001b[0;34m.\u001b[0m\u001b[0macquire\u001b[0m\u001b[0;34m(\u001b[0m\u001b[0;34m)\u001b[0m\u001b[0;34m\u001b[0m\u001b[0;34m\u001b[0m\u001b[0m\n\u001b[0m\u001b[1;32m    297\u001b[0m                 \u001b[0mgotit\u001b[0m \u001b[0;34m=\u001b[0m \u001b[0;32mTrue\u001b[0m\u001b[0;34m\u001b[0m\u001b[0;34m\u001b[0m\u001b[0m\n\u001b[1;32m    298\u001b[0m             \u001b[0;32melse\u001b[0m\u001b[0;34m:\u001b[0m\u001b[0;34m\u001b[0m\u001b[0;34m\u001b[0m\u001b[0m\n",
      "\u001b[0;31mKeyboardInterrupt\u001b[0m: "
     ]
    }
   ],
   "source": [
    "from skopt import BayesSearchCV\n",
    "\n",
    "param_grid = {\n",
    "    'base_score': (0.3, 0.7),\n",
    "    'max_depth': (1, 100),\n",
    "    'n_estimators': (50, 500),\n",
    "    'gamma': (0, 5),\n",
    "    'learning_rate': (0.08, 0.3)\n",
    "}\n",
    "\n",
    "BSCV = BayesSearchCV (estimator=xgbc, \n",
    "                      search_spaces=param_grid, \n",
    "                      optimizer_kwargs=None,\n",
    "                      n_iter=40, \n",
    "                      scoring='accuracy', \n",
    "                      fit_params=None, \n",
    "                      n_jobs=-1,\n",
    "                      n_points=20,\n",
    "                      cv=3, \n",
    "                      verbose=10,\n",
    "                      random_state=42,\n",
    "                      return_train_score=True)\n",
    "    \n",
    "BSCV.fit(X, y)"
   ]
  },
  {
   "cell_type": "code",
   "execution_count": null,
   "metadata": {},
   "outputs": [],
   "source": [
    "pd.DataFrame(BSCV.cv_results_).sort_values(by='rank_test_score').head()"
   ]
  },
  {
   "cell_type": "code",
   "execution_count": null,
   "metadata": {},
   "outputs": [],
   "source": [
    "BSCV.best_estimator_"
   ]
  },
  {
   "cell_type": "markdown",
   "metadata": {},
   "source": [
    "### Propose a Methodology for effective searching\n",
    "\n",
    "Then execute methodology"
   ]
  },
  {
   "cell_type": "markdown",
   "metadata": {},
   "source": [
    "# Methodologies for Feature Importances\n",
    "\n",
    "There are three mothodologies for feature importances I'll be demonstrating. \n",
    "\n",
    "- Feature Importances\n",
    "- Permutation Importances\n",
    "- SHAP\n",
    "\n",
    "> Feature importances reveal what the model utilized, not necessarily what is the most important. With a successful model, it can be quite useful for model explainability and communication with stakeholders. \n",
    "\n",
    "\n",
    "I'll be demonstrating this with 3 different models. This should indicate how these feature importances change with different model parameters. "
   ]
  },
  {
   "cell_type": "markdown",
   "metadata": {},
   "source": [
    "### Feature Importances\n",
    "This is a build in method within the model class in scikit-learn. Classification models return the importances whereas Regression models return the coefficients. This type of methodology is generally not available when training neural networks. "
   ]
  },
  {
   "cell_type": "code",
   "execution_count": 86,
   "metadata": {},
   "outputs": [],
   "source": [
    "model_1 = RSCV.best_estimator_\n",
    "model_2 = GSCV.best_estimator_\n",
    "model_3 = BSCV.best_estimator_"
   ]
  },
  {
   "cell_type": "code",
   "execution_count": 87,
   "metadata": {},
   "outputs": [
    {
     "name": "stdout",
     "output_type": "stream",
     "text": [
      "Model Produced via RandomSearchCV: \n",
      " XGBClassifier(base_score=0.36000000000000004, booster='gbtree',\n",
      "       colsample_bylevel=1, colsample_bynode=1, colsample_bytree=1,\n",
      "       eval_metric='merror', gamma=0, learning_rate=0.1, max_delta_step=0,\n",
      "       max_depth=9, min_child_weight=1, missing=None, n_estimators=137,\n",
      "       n_jobs=-1, nthread=None, num_class=3, objective='multi:softprob',\n",
      "       random_state=42, reg_alpha=0, reg_lambda=1, scale_pos_weight=1,\n",
      "       seed=42, silent=True, subsample=1, verbosity=1) \n",
      "\n",
      "Model Produced via GridSearchCV: \n",
      " XGBClassifier(base_score=0.65, booster='gbtree', colsample_bylevel=1,\n",
      "       colsample_bynode=1, colsample_bytree=1, eval_metric='merror',\n",
      "       gamma=0, learning_rate=0.1, max_delta_step=0, max_depth=10,\n",
      "       min_child_weight=1, missing=None, n_estimators=165, n_jobs=-1,\n",
      "       nthread=None, num_class=3, objective='multi:softprob',\n",
      "       random_state=42, reg_alpha=0, reg_lambda=1, scale_pos_weight=1,\n",
      "       seed=42, silent=True, subsample=1, verbosity=1) \n",
      "\n",
      "Model Produced via BayesSearchCV: \n",
      " XGBClassifier(base_score=0.4656474529942154, booster='gbtree',\n",
      "       colsample_bylevel=1, colsample_bynode=1, colsample_bytree=1,\n",
      "       eval_metric='merror', gamma=2, learning_rate=0.24269093152189253,\n",
      "       max_delta_step=0, max_depth=31, min_child_weight=1, missing=None,\n",
      "       n_estimators=342, n_jobs=-1, nthread=None, num_class=3,\n",
      "       objective='multi:softprob', random_state=42, reg_alpha=0,\n",
      "       reg_lambda=1, scale_pos_weight=1, seed=42, silent=True, subsample=1,\n",
      "       verbosity=1) \n",
      "\n"
     ]
    }
   ],
   "source": [
    "print('Model Produced via RandomSearchCV: \\n', model_1,'\\n')\n",
    "print('Model Produced via GridSearchCV: \\n', model_2,'\\n')\n",
    "print('Model Produced via BayesSearchCV: \\n', model_3,'\\n')"
   ]
  },
  {
   "cell_type": "code",
   "execution_count": 59,
   "metadata": {},
   "outputs": [],
   "source": [
    "# model_1 = XGBClassifier(base_score=0.36000000000000004, booster='gbtree',\n",
    "#                         colsample_bylevel=1, colsample_bynode=1, colsample_bytree=1,\n",
    "#                         eval_metric='merror', gamma=0, learning_rate=0.1, max_delta_step=0,\n",
    "#                         max_depth=9, min_child_weight=1, missing=None, n_estimators=137,\n",
    "#                         n_jobs=-1, nthread=None, num_class=3, objective='multi:softprob',\n",
    "#                         random_state=42, reg_alpha=0, reg_lambda=1, scale_pos_weight=1,\n",
    "#                         seed=42, silent=True, subsample=1, verbosity=1) \n",
    "\n",
    "# model_2 =  XGBClassifier(base_score=0.65, booster='gbtree', colsample_bylevel=1,\n",
    "#                         colsample_bynode=1, colsample_bytree=1, eval_metric='merror',\n",
    "#                         gamma=0, learning_rate=0.1, max_delta_step=0, max_depth=10,\n",
    "#                         min_child_weight=1, missing=None, n_estimators=165, n_jobs=-1,\n",
    "#                         nthread=None, num_class=3, objective='multi:softprob',\n",
    "#                         random_state=42, reg_alpha=0, reg_lambda=1, scale_pos_weight=1,\n",
    "#                         seed=42, silent=True, subsample=1, verbosity=1)\n",
    "\n",
    "# model_3 = XGBClassifier(base_score=0.4656474529942154, booster='gbtree',\n",
    "#                         colsample_bylevel=1, colsample_bynode=1, colsample_bytree=1,\n",
    "#                         eval_metric='merror', gamma=2, learning_rate=0.24269093152189253,\n",
    "#                         max_delta_step=0, max_depth=31, min_child_weight=1, missing=None,\n",
    "#                         n_estimators=342, n_jobs=-1, nthread=None, num_class=3,\n",
    "#                         objective='multi:softprob', random_state=42, reg_alpha=0,\n",
    "#                         reg_lambda=1, scale_pos_weight=1, seed=42, silent=True, subsample=1,\n",
    "#                         verbosity=1) \n"
   ]
  },
  {
   "cell_type": "markdown",
   "metadata": {},
   "source": [
    "Each of the models have very different hyperparameters, yet produces roughly the same result. Let's see if that changes how they interpret the importance of the data. "
   ]
  },
  {
   "cell_type": "code",
   "execution_count": 125,
   "metadata": {
    "collapsed": true,
    "jupyter": {
     "outputs_hidden": true
    }
   },
   "outputs": [
    {
     "ename": "KeyError",
     "evalue": "'gps_height'",
     "output_type": "error",
     "traceback": [
      "\u001b[0;31m---------------------------------------------------------------------------\u001b[0m",
      "\u001b[0;31mKeyError\u001b[0m                                  Traceback (most recent call last)",
      "\u001b[0;32m~/anaconda3/lib/python3.7/site-packages/pandas/core/indexes/base.py\u001b[0m in \u001b[0;36mget_loc\u001b[0;34m(self, key, method, tolerance)\u001b[0m\n\u001b[1;32m   2656\u001b[0m             \u001b[0;32mtry\u001b[0m\u001b[0;34m:\u001b[0m\u001b[0;34m\u001b[0m\u001b[0;34m\u001b[0m\u001b[0m\n\u001b[0;32m-> 2657\u001b[0;31m                 \u001b[0;32mreturn\u001b[0m \u001b[0mself\u001b[0m\u001b[0;34m.\u001b[0m\u001b[0m_engine\u001b[0m\u001b[0;34m.\u001b[0m\u001b[0mget_loc\u001b[0m\u001b[0;34m(\u001b[0m\u001b[0mkey\u001b[0m\u001b[0;34m)\u001b[0m\u001b[0;34m\u001b[0m\u001b[0;34m\u001b[0m\u001b[0m\n\u001b[0m\u001b[1;32m   2658\u001b[0m             \u001b[0;32mexcept\u001b[0m \u001b[0mKeyError\u001b[0m\u001b[0;34m:\u001b[0m\u001b[0;34m\u001b[0m\u001b[0;34m\u001b[0m\u001b[0m\n",
      "\u001b[0;32mpandas/_libs/index.pyx\u001b[0m in \u001b[0;36mpandas._libs.index.IndexEngine.get_loc\u001b[0;34m()\u001b[0m\n",
      "\u001b[0;32mpandas/_libs/index.pyx\u001b[0m in \u001b[0;36mpandas._libs.index.IndexEngine.get_loc\u001b[0;34m()\u001b[0m\n",
      "\u001b[0;32mpandas/_libs/hashtable_class_helper.pxi\u001b[0m in \u001b[0;36mpandas._libs.hashtable.PyObjectHashTable.get_item\u001b[0;34m()\u001b[0m\n",
      "\u001b[0;32mpandas/_libs/hashtable_class_helper.pxi\u001b[0m in \u001b[0;36mpandas._libs.hashtable.PyObjectHashTable.get_item\u001b[0;34m()\u001b[0m\n",
      "\u001b[0;31mKeyError\u001b[0m: 'gps_height'",
      "\nDuring handling of the above exception, another exception occurred:\n",
      "\u001b[0;31mKeyError\u001b[0m                                  Traceback (most recent call last)",
      "\u001b[0;32m<ipython-input-125-8fe361d5144e>\u001b[0m in \u001b[0;36m<module>\u001b[0;34m\u001b[0m\n\u001b[1;32m     11\u001b[0m                         \u001b[0;36m2\u001b[0m\u001b[0;34m:\u001b[0m \u001b[0;34m'model_2'\u001b[0m\u001b[0;34m,\u001b[0m\u001b[0;34m\u001b[0m\u001b[0;34m\u001b[0m\u001b[0m\n\u001b[1;32m     12\u001b[0m                         3: 'model_3'})\n\u001b[0;32m---> 13\u001b[0;31m        .set_index(X.columns.values.tolist()))\n\u001b[0m\u001b[1;32m     14\u001b[0m \u001b[0;34m\u001b[0m\u001b[0m\n",
      "\u001b[0;32m~/anaconda3/lib/python3.7/site-packages/pandas/core/frame.py\u001b[0m in \u001b[0;36mset_index\u001b[0;34m(self, keys, drop, append, inplace, verify_integrity)\u001b[0m\n\u001b[1;32m   4176\u001b[0m                 \u001b[0mnames\u001b[0m\u001b[0;34m.\u001b[0m\u001b[0mappend\u001b[0m\u001b[0;34m(\u001b[0m\u001b[0;32mNone\u001b[0m\u001b[0;34m)\u001b[0m\u001b[0;34m\u001b[0m\u001b[0;34m\u001b[0m\u001b[0m\n\u001b[1;32m   4177\u001b[0m             \u001b[0;32melse\u001b[0m\u001b[0;34m:\u001b[0m\u001b[0;34m\u001b[0m\u001b[0;34m\u001b[0m\u001b[0m\n\u001b[0;32m-> 4178\u001b[0;31m                 \u001b[0mlevel\u001b[0m \u001b[0;34m=\u001b[0m \u001b[0mframe\u001b[0m\u001b[0;34m[\u001b[0m\u001b[0mcol\u001b[0m\u001b[0;34m]\u001b[0m\u001b[0;34m.\u001b[0m\u001b[0m_values\u001b[0m\u001b[0;34m\u001b[0m\u001b[0;34m\u001b[0m\u001b[0m\n\u001b[0m\u001b[1;32m   4179\u001b[0m                 \u001b[0mnames\u001b[0m\u001b[0;34m.\u001b[0m\u001b[0mappend\u001b[0m\u001b[0;34m(\u001b[0m\u001b[0mcol\u001b[0m\u001b[0;34m)\u001b[0m\u001b[0;34m\u001b[0m\u001b[0;34m\u001b[0m\u001b[0m\n\u001b[1;32m   4180\u001b[0m                 \u001b[0;32mif\u001b[0m \u001b[0mdrop\u001b[0m\u001b[0;34m:\u001b[0m\u001b[0;34m\u001b[0m\u001b[0;34m\u001b[0m\u001b[0m\n",
      "\u001b[0;32m~/anaconda3/lib/python3.7/site-packages/pandas/core/frame.py\u001b[0m in \u001b[0;36m__getitem__\u001b[0;34m(self, key)\u001b[0m\n\u001b[1;32m   2925\u001b[0m             \u001b[0;32mif\u001b[0m \u001b[0mself\u001b[0m\u001b[0;34m.\u001b[0m\u001b[0mcolumns\u001b[0m\u001b[0;34m.\u001b[0m\u001b[0mnlevels\u001b[0m \u001b[0;34m>\u001b[0m \u001b[0;36m1\u001b[0m\u001b[0;34m:\u001b[0m\u001b[0;34m\u001b[0m\u001b[0;34m\u001b[0m\u001b[0m\n\u001b[1;32m   2926\u001b[0m                 \u001b[0;32mreturn\u001b[0m \u001b[0mself\u001b[0m\u001b[0;34m.\u001b[0m\u001b[0m_getitem_multilevel\u001b[0m\u001b[0;34m(\u001b[0m\u001b[0mkey\u001b[0m\u001b[0;34m)\u001b[0m\u001b[0;34m\u001b[0m\u001b[0;34m\u001b[0m\u001b[0m\n\u001b[0;32m-> 2927\u001b[0;31m             \u001b[0mindexer\u001b[0m \u001b[0;34m=\u001b[0m \u001b[0mself\u001b[0m\u001b[0;34m.\u001b[0m\u001b[0mcolumns\u001b[0m\u001b[0;34m.\u001b[0m\u001b[0mget_loc\u001b[0m\u001b[0;34m(\u001b[0m\u001b[0mkey\u001b[0m\u001b[0;34m)\u001b[0m\u001b[0;34m\u001b[0m\u001b[0;34m\u001b[0m\u001b[0m\n\u001b[0m\u001b[1;32m   2928\u001b[0m             \u001b[0;32mif\u001b[0m \u001b[0mis_integer\u001b[0m\u001b[0;34m(\u001b[0m\u001b[0mindexer\u001b[0m\u001b[0;34m)\u001b[0m\u001b[0;34m:\u001b[0m\u001b[0;34m\u001b[0m\u001b[0;34m\u001b[0m\u001b[0m\n\u001b[1;32m   2929\u001b[0m                 \u001b[0mindexer\u001b[0m \u001b[0;34m=\u001b[0m \u001b[0;34m[\u001b[0m\u001b[0mindexer\u001b[0m\u001b[0;34m]\u001b[0m\u001b[0;34m\u001b[0m\u001b[0;34m\u001b[0m\u001b[0m\n",
      "\u001b[0;32m~/anaconda3/lib/python3.7/site-packages/pandas/core/indexes/base.py\u001b[0m in \u001b[0;36mget_loc\u001b[0;34m(self, key, method, tolerance)\u001b[0m\n\u001b[1;32m   2657\u001b[0m                 \u001b[0;32mreturn\u001b[0m \u001b[0mself\u001b[0m\u001b[0;34m.\u001b[0m\u001b[0m_engine\u001b[0m\u001b[0;34m.\u001b[0m\u001b[0mget_loc\u001b[0m\u001b[0;34m(\u001b[0m\u001b[0mkey\u001b[0m\u001b[0;34m)\u001b[0m\u001b[0;34m\u001b[0m\u001b[0;34m\u001b[0m\u001b[0m\n\u001b[1;32m   2658\u001b[0m             \u001b[0;32mexcept\u001b[0m \u001b[0mKeyError\u001b[0m\u001b[0;34m:\u001b[0m\u001b[0;34m\u001b[0m\u001b[0;34m\u001b[0m\u001b[0m\n\u001b[0;32m-> 2659\u001b[0;31m                 \u001b[0;32mreturn\u001b[0m \u001b[0mself\u001b[0m\u001b[0;34m.\u001b[0m\u001b[0m_engine\u001b[0m\u001b[0;34m.\u001b[0m\u001b[0mget_loc\u001b[0m\u001b[0;34m(\u001b[0m\u001b[0mself\u001b[0m\u001b[0;34m.\u001b[0m\u001b[0m_maybe_cast_indexer\u001b[0m\u001b[0;34m(\u001b[0m\u001b[0mkey\u001b[0m\u001b[0;34m)\u001b[0m\u001b[0;34m)\u001b[0m\u001b[0;34m\u001b[0m\u001b[0;34m\u001b[0m\u001b[0m\n\u001b[0m\u001b[1;32m   2660\u001b[0m         \u001b[0mindexer\u001b[0m \u001b[0;34m=\u001b[0m \u001b[0mself\u001b[0m\u001b[0;34m.\u001b[0m\u001b[0mget_indexer\u001b[0m\u001b[0;34m(\u001b[0m\u001b[0;34m[\u001b[0m\u001b[0mkey\u001b[0m\u001b[0;34m]\u001b[0m\u001b[0;34m,\u001b[0m \u001b[0mmethod\u001b[0m\u001b[0;34m=\u001b[0m\u001b[0mmethod\u001b[0m\u001b[0;34m,\u001b[0m \u001b[0mtolerance\u001b[0m\u001b[0;34m=\u001b[0m\u001b[0mtolerance\u001b[0m\u001b[0;34m)\u001b[0m\u001b[0;34m\u001b[0m\u001b[0;34m\u001b[0m\u001b[0m\n\u001b[1;32m   2661\u001b[0m         \u001b[0;32mif\u001b[0m \u001b[0mindexer\u001b[0m\u001b[0;34m.\u001b[0m\u001b[0mndim\u001b[0m \u001b[0;34m>\u001b[0m \u001b[0;36m1\u001b[0m \u001b[0;32mor\u001b[0m \u001b[0mindexer\u001b[0m\u001b[0;34m.\u001b[0m\u001b[0msize\u001b[0m \u001b[0;34m>\u001b[0m \u001b[0;36m1\u001b[0m\u001b[0;34m:\u001b[0m\u001b[0;34m\u001b[0m\u001b[0;34m\u001b[0m\u001b[0m\n",
      "\u001b[0;32mpandas/_libs/index.pyx\u001b[0m in \u001b[0;36mpandas._libs.index.IndexEngine.get_loc\u001b[0;34m()\u001b[0m\n",
      "\u001b[0;32mpandas/_libs/index.pyx\u001b[0m in \u001b[0;36mpandas._libs.index.IndexEngine.get_loc\u001b[0;34m()\u001b[0m\n",
      "\u001b[0;32mpandas/_libs/hashtable_class_helper.pxi\u001b[0m in \u001b[0;36mpandas._libs.hashtable.PyObjectHashTable.get_item\u001b[0;34m()\u001b[0m\n",
      "\u001b[0;32mpandas/_libs/hashtable_class_helper.pxi\u001b[0m in \u001b[0;36mpandas._libs.hashtable.PyObjectHashTable.get_item\u001b[0;34m()\u001b[0m\n",
      "\u001b[0;31mKeyError\u001b[0m: 'gps_height'"
     ]
    }
   ],
   "source": [
    "models = [model_1, model_2, model_3]\n",
    "\n",
    "for m in models:\n",
    "    m.fit(X, y)"
   ]
  },
  {
   "cell_type": "code",
   "execution_count": 164,
   "metadata": {},
   "outputs": [],
   "source": [
    "fidf = (pd.DataFrame(data=[X.columns.values.tolist(),\n",
    "                           model_1.feature_importances_, \n",
    "                          model_2.feature_importances_, \n",
    "                        model_3.feature_importances_]).T\n",
    "       .rename(columns={0: 'features', \n",
    "                        1: 'model_1', \n",
    "                        2: 'model_2', \n",
    "                        3: 'model_3'})\n",
    "       .set_index('features')\n",
    "       .sort_values(by='model_1'))\n",
    "\n"
   ]
  },
  {
   "cell_type": "code",
   "execution_count": 232,
   "metadata": {},
   "outputs": [
    {
     "data": {
      "image/png": "[encoded data removed]",
      "text/plain": [
       "<Figure size 720x936 with 1 Axes>"
      ]
     },
     "metadata": {},
     "output_type": "display_data"
    }
   ],
   "source": [
    "plt.style.use('ggplot')\n",
    "\n",
    "fig, ax = plt.subplots(figsize=(10 , 13))\n",
    "\n",
    "# Defining variables for plottling\n",
    "n_groups = fidf['model_1'].nunique() \n",
    "index = np.arange(n_groups)\n",
    "width = .25\n",
    "opacity = .8\n",
    "linewidth = 3\n",
    "\n",
    "m_1 = plt.barh(index, fidf['model_1'], width, \n",
    "             alpha=opacity, linewidth = linewidth,\n",
    "             label = 'Model 1')\n",
    "m_2 = plt.barh(index + width, fidf['model_2'], width, \n",
    "             alpha=opacity,linewidth = linewidth,\n",
    "             label = 'Model 2')\n",
    "m_3 = plt.barh(index + 2*width, fidf['model_3'], width, \n",
    "             alpha=opacity, linewidth = linewidth,\n",
    "             label = 'Model 3')\n",
    "\n",
    "plt.yticks(ticks=np.arange(13), labels=fidf.index, fontsize=12)\n",
    "\n",
    "plt.text(x = -0.02, y = 13.6, s = 'Feature Importances Along Differently Tuned Models',\n",
    "        fontsize = 20, )\n",
    "plt.text(x = 0.15, y = -1.5, s = 'Feature Importance Value',\n",
    "        fontsize = 17, )\n",
    "\n",
    "plt.show();"
   ]
  },
  {
   "cell_type": "code",
   "execution_count": 111,
   "metadata": {},
   "outputs": [
    {
     "data": {
      "text/html": [
       "<div>\n",
       "<style scoped>\n",
       "    .dataframe tbody tr th:only-of-type {\n",
       "        vertical-align: middle;\n",
       "    }\n",
       "\n",
       "    .dataframe tbody tr th {\n",
       "        vertical-align: top;\n",
       "    }\n",
       "\n",
       "    .dataframe thead th {\n",
       "        text-align: right;\n",
       "    }\n",
       "</style>\n",
       "<table border=\"1\" class=\"dataframe\">\n",
       "  <thead>\n",
       "    <tr style=\"text-align: right;\">\n",
       "      <th></th>\n",
       "      <th>features</th>\n",
       "      <th>model_1</th>\n",
       "      <th>model_2</th>\n",
       "      <th>model_3</th>\n",
       "    </tr>\n",
       "  </thead>\n",
       "  <tbody>\n",
       "    <tr>\n",
       "      <th>0</th>\n",
       "      <td>gps_height</td>\n",
       "      <td>0.0258534</td>\n",
       "      <td>0.0264027</td>\n",
       "      <td>0.024171</td>\n",
       "    </tr>\n",
       "    <tr>\n",
       "      <th>1</th>\n",
       "      <td>population</td>\n",
       "      <td>0.0273981</td>\n",
       "      <td>0.0270124</td>\n",
       "      <td>0.0250336</td>\n",
       "    </tr>\n",
       "    <tr>\n",
       "      <th>2</th>\n",
       "      <td>ward</td>\n",
       "      <td>0.0281197</td>\n",
       "      <td>0.0288526</td>\n",
       "      <td>0.0246174</td>\n",
       "    </tr>\n",
       "    <tr>\n",
       "      <th>3</th>\n",
       "      <td>construction_year</td>\n",
       "      <td>0.0437514</td>\n",
       "      <td>0.0431835</td>\n",
       "      <td>0.0387595</td>\n",
       "    </tr>\n",
       "    <tr>\n",
       "      <th>4</th>\n",
       "      <td>amount_tsh</td>\n",
       "      <td>0.066321</td>\n",
       "      <td>0.0643765</td>\n",
       "      <td>0.0517975</td>\n",
       "    </tr>\n",
       "    <tr>\n",
       "      <th>5</th>\n",
       "      <td>quantity</td>\n",
       "      <td>0.32421</td>\n",
       "      <td>0.326115</td>\n",
       "      <td>0.389888</td>\n",
       "    </tr>\n",
       "    <tr>\n",
       "      <th>6</th>\n",
       "      <td>funder</td>\n",
       "      <td>0.0345886</td>\n",
       "      <td>0.0348921</td>\n",
       "      <td>0.029339</td>\n",
       "    </tr>\n",
       "    <tr>\n",
       "      <th>7</th>\n",
       "      <td>waterpoint_type</td>\n",
       "      <td>0.147013</td>\n",
       "      <td>0.141616</td>\n",
       "      <td>0.164277</td>\n",
       "    </tr>\n",
       "    <tr>\n",
       "      <th>8</th>\n",
       "      <td>extraction_type</td>\n",
       "      <td>0.106479</td>\n",
       "      <td>0.107647</td>\n",
       "      <td>0.0951425</td>\n",
       "    </tr>\n",
       "    <tr>\n",
       "      <th>9</th>\n",
       "      <td>source</td>\n",
       "      <td>0.0632209</td>\n",
       "      <td>0.0628318</td>\n",
       "      <td>0.0509583</td>\n",
       "    </tr>\n",
       "    <tr>\n",
       "      <th>10</th>\n",
       "      <td>management</td>\n",
       "      <td>0.0411631</td>\n",
       "      <td>0.0429785</td>\n",
       "      <td>0.0358103</td>\n",
       "    </tr>\n",
       "    <tr>\n",
       "      <th>11</th>\n",
       "      <td>50_kmeans_clusters</td>\n",
       "      <td>0.0592087</td>\n",
       "      <td>0.060374</td>\n",
       "      <td>0.0421495</td>\n",
       "    </tr>\n",
       "    <tr>\n",
       "      <th>12</th>\n",
       "      <td>500_kmeans_clusters</td>\n",
       "      <td>0.0326726</td>\n",
       "      <td>0.0337187</td>\n",
       "      <td>0.0280564</td>\n",
       "    </tr>\n",
       "  </tbody>\n",
       "</table>\n",
       "</div>"
      ],
      "text/plain": [
       "               features    model_1    model_2    model_3\n",
       "0            gps_height  0.0258534  0.0264027   0.024171\n",
       "1            population  0.0273981  0.0270124  0.0250336\n",
       "2                  ward  0.0281197  0.0288526  0.0246174\n",
       "3     construction_year  0.0437514  0.0431835  0.0387595\n",
       "4            amount_tsh   0.066321  0.0643765  0.0517975\n",
       "5              quantity    0.32421   0.326115   0.389888\n",
       "6                funder  0.0345886  0.0348921   0.029339\n",
       "7       waterpoint_type   0.147013   0.141616   0.164277\n",
       "8       extraction_type   0.106479   0.107647  0.0951425\n",
       "9                source  0.0632209  0.0628318  0.0509583\n",
       "10           management  0.0411631  0.0429785  0.0358103\n",
       "11   50_kmeans_clusters  0.0592087   0.060374  0.0421495\n",
       "12  500_kmeans_clusters  0.0326726  0.0337187  0.0280564"
      ]
     },
     "execution_count": 111,
     "metadata": {},
     "output_type": "execute_result"
    }
   ],
   "source": [
    "fidf.T"
   ]
  },
  {
   "cell_type": "markdown",
   "metadata": {},
   "source": [
    "Something something model interpretability\n",
    "\n",
    "Model performance could be related to the model prioritizing noisy data. "
   ]
  },
  {
   "cell_type": "markdown",
   "metadata": {},
   "source": [
    "### eli5/LIME"
   ]
  },
  {
   "cell_type": "markdown",
   "metadata": {},
   "source": [
    "How do you determine whether or not a feature is noise? One approach is permuation importance. I'll be testing that using the eli5 library. eli5 provides a way to compute feature importances for any black-box estimator by measuring how score decreases when a feature is not available; the method is also known as “permutation importance” or “Mean Decrease Accuracy (MDA)”."
   ]
  },
  {
   "cell_type": "code",
   "execution_count": 239,
   "metadata": {},
   "outputs": [],
   "source": [
    "import eli5\n",
    "from eli5.sklearn import PermutationImportance\n",
    "\n",
    "perm = PermutationImportance(model_2, \n",
    "                             scoring = 'accuracy',\n",
    "                             n_iter = 10, \n",
    "                             random_state = 42)\n",
    "\n"
   ]
  },
  {
   "cell_type": "code",
   "execution_count": 68,
   "metadata": {},
   "outputs": [
    {
     "data": {
      "text/plain": [
       "array(['functional needs repair', 'non functional', 'functional'],\n",
       "      dtype=object)"
      ]
     },
     "execution_count": 68,
     "metadata": {},
     "output_type": "execute_result"
    }
   ],
   "source": []
  },
  {
   "cell_type": "code",
   "execution_count": null,
   "metadata": {},
   "outputs": [],
   "source": []
  },
  {
   "cell_type": "code",
   "execution_count": null,
   "metadata": {},
   "outputs": [],
   "source": []
  },
  {
   "cell_type": "code",
   "execution_count": null,
   "metadata": {},
   "outputs": [],
   "source": []
  },
  {
   "cell_type": "code",
   "execution_count": null,
   "metadata": {},
   "outputs": [],
   "source": []
  },
  {
   "cell_type": "code",
   "execution_count": null,
   "metadata": {},
   "outputs": [],
   "source": []
  },
  {
   "cell_type": "markdown",
   "metadata": {},
   "source": [
    "### SHAP\n",
    "\n",
    "SHAP is a library that utilizes Shapley values in order support model explainability. The technical definition of a Shapley value is the “average marginal contribution of a feature value over all possible coalitions.” In other words, Shapley values consider all possible predictions for an instance using all possible combinations of inputs. Because of this exhaustive approach, SHAP can guarantee properties like consistency and local accuracy."
   ]
  },
  {
   "cell_type": "code",
   "execution_count": null,
   "metadata": {},
   "outputs": [],
   "source": [
    "import shap"
   ]
  },
  {
   "cell_type": "markdown",
   "metadata": {},
   "source": [
    "I want to explain each step of this process as thoroughly as possible as it will be easy to brush over some of the finer details of the process for finding the shapley values and demonstrating them. To begin, I need to figure out the Shapley values of the model. Since this can be computationally expensive, I will be only running these tests on the model recommended by the BayesSearchCV. I'll be utilizing the [Tree Explainer](https://shap.readthedocs.io/en/latest/#shap.TreeExplainer) class and some of the default parameters. \n",
    "\n",
    "    shap.TreeExplainer(\n",
    "            model,\n",
    "            data=None,\n",
    "            model_output='margin',\n",
    "            feature_dependence='tree_path_dependent',\n",
    "    )\n",
    "    \n",
    "Notice I will keep the default feature_dependence. If I wanted to change the model_output to `\"probability\"`, I would then change the feature_dependence to `\"independent\"`. In this case, I am looking for shapley values based on how the training data was distributed among the leaves. "
   ]
  },
  {
   "cell_type": "code",
   "execution_count": 80,
   "metadata": {},
   "outputs": [],
   "source": [
    "#Create a Tree explainer \n",
    "bm_exp = shap.TreeExplainer(model_3)\n",
    "#calculate shapley values\n",
    "s_values = bm_exp.shap_values(X=X_val, y=y_pred)"
   ]
  },
  {
   "cell_type": "markdown",
   "metadata": {},
   "source": [
    "This problem is a multi-class classification problem which makes it relatively difficult to interpret what features influence which potential prediction class. SHAP provides some degree of insight into what features played a role in a particular prediciton. For example. in the chart below `quantity` is a major factor in waterpumps that the not functioning or need repair. It is not as influential in determining pumps that are functioning whereas the extraction type plays an outsized role in that prediction. "
   ]
  },
  {
   "cell_type": "code",
   "execution_count": 216,
   "metadata": {},
   "outputs": [
    {
     "data": {
      "image/png": "[encoded data removed]",
      "text/plain": [
       "<Figure size 576x482.4 with 1 Axes>"
      ]
     },
     "metadata": {},
     "output_type": "display_data"
    }
   ],
   "source": [
    "class_names=y_val.unique()\n",
    "plt.style.use('ggplot')\n",
    "plt.title('SHAP Summary of Tanzanian WAter Pump Status')\n",
    "\n",
    "shap.summary_plot(s_values, X_val, plot_type=\"bar\",\n",
    "                  class_names=class_names,\n",
    "                  title='SHAP Summary of Tanzanian Water Pump Status')"
   ]
  },
  {
   "cell_type": "markdown",
   "metadata": {},
   "source": [
    "The next step with Shap is to look at individual prediction to root out the model's decision making process. This is extremely powerful when used in conjunction with a confusion matrix. "
   ]
  }
 ],
 "metadata": {
  "kernelspec": {
   "display_name": "Python 3",
   "language": "python",
   "name": "python3"
  },
  "language_info": {
   "codemirror_mode": {
    "name": "ipython",
    "version": 3
   },
   "file_extension": ".py",
   "mimetype": "text/x-python",
   "name": "python",
   "nbconvert_exporter": "python",
   "pygments_lexer": "ipython3",
   "version": "3.7.3"
  }
 },
 "nbformat": 4,
 "nbformat_minor": 4
}
